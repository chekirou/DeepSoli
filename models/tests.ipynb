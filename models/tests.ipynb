{
 "cells": [
  {
   "cell_type": "code",
   "execution_count": 1,
   "metadata": {},
   "outputs": [],
   "source": [
    "import h5py\n",
    "import numpy as np\n",
    "from skimage import io, transform\n",
    "from torchvision import transforms, utils\n",
    "import matplotlib.pyplot as plt\n",
    "import sys,os\n",
    "sys.path.append(os.path.abspath('../'))\n",
    "import utils.Dataset as u"
   ]
  },
  {
   "cell_type": "code",
   "execution_count": 2,
   "metadata": {},
   "outputs": [],
   "source": [
    "t = transforms.Compose([u.Reshape(), u.Rescale((224,224)), u.ToTensor()]) # composition of transformations\n",
    "data = u.Data(\"/home/chekirou/Documents/SOLI/SoliData/dsp/\",transform = t) # open the dataset"
   ]
  },
  {
   "cell_type": "code",
   "execution_count": 3,
   "metadata": {},
   "outputs": [],
   "source": [
    "#train1, test1 = data.split() # return a split train test of the sequences, using all the data, 50% train, 50% test\n",
    "train2, test2 = data.split(frames = True, percentage = 0.8, use= 0.8) # returns a split of the frames 80% train, 20% test, for 80% of the data\n",
    "#train3, test3 = data.split(frames = False, already_defined= True)# returns train test split as defined in the article\n",
    "\n"
   ]
  },
  {
   "cell_type": "code",
   "execution_count": 4,
   "metadata": {},
   "outputs": [
    {
     "name": "stdout",
     "output_type": "stream",
     "text": [
      "['3_13_23', 18]\n",
      "the sequence : torch.Size([4, 224, 224])\n",
      "the labels   : torch.Size([1])\n"
     ]
    }
   ],
   "source": [
    "print(train2[0])\n",
    "sequence, labels = data[train2[0]]# get the sequence\n",
    "print(\"the sequence : \" + str(sequence.size()))\n",
    "print(\"the labels   : \" + str(labels.size()))"
   ]
  },
  {
   "cell_type": "code",
   "execution_count": null,
   "metadata": {},
   "outputs": [],
   "source": []
  }
 ],
 "metadata": {
  "kernelspec": {
   "display_name": "Python 3",
   "language": "python",
   "name": "python3"
  },
  "language_info": {
   "codemirror_mode": {
    "name": "ipython",
    "version": 3
   },
   "file_extension": ".py",
   "mimetype": "text/x-python",
   "name": "python",
   "nbconvert_exporter": "python",
   "pygments_lexer": "ipython3",
   "version": "3.7.4"
  }
 },
 "nbformat": 4,
 "nbformat_minor": 2
}
