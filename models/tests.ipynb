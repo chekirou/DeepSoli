{
 "cells": [
  {
   "cell_type": "code",
   "execution_count": 9,
   "metadata": {
    "ExecuteTime": {
     "end_time": "2020-02-20T15:37:07.652989Z",
     "start_time": "2020-02-20T15:37:07.647484Z"
    }
   },
   "outputs": [],
   "source": [
    "import CNN as cnn\n",
    "import torch\n",
    "import torch.nn"
   ]
  },
  {
   "cell_type": "code",
   "execution_count": 19,
   "metadata": {
    "ExecuteTime": {
     "end_time": "2020-02-20T15:44:18.743364Z",
     "start_time": "2020-02-20T15:44:18.738840Z"
    }
   },
   "outputs": [],
   "source": [
    "input = torch.randn(1,1,224,224)"
   ]
  },
  {
   "cell_type": "code",
   "execution_count": 20,
   "metadata": {
    "ExecuteTime": {
     "end_time": "2020-02-20T15:44:19.210110Z",
     "start_time": "2020-02-20T15:44:19.202586Z"
    }
   },
   "outputs": [
    {
     "data": {
      "text/plain": [
       "torch.Size([1, 1, 224, 224])"
      ]
     },
     "execution_count": 20,
     "metadata": {},
     "output_type": "execute_result"
    }
   ],
   "source": [
    "\n",
    "input.shape"
   ]
  },
  {
   "cell_type": "code",
   "execution_count": 21,
   "metadata": {
    "ExecuteTime": {
     "end_time": "2020-02-20T15:44:21.119170Z",
     "start_time": "2020-02-20T15:44:20.995308Z"
    }
   },
   "outputs": [],
   "source": [
    "model = cnn.CNN()\n",
    "out = model.forward(input)"
   ]
  },
  {
   "cell_type": "code",
   "execution_count": 22,
   "metadata": {
    "ExecuteTime": {
     "end_time": "2020-02-20T15:44:24.625394Z",
     "start_time": "2020-02-20T15:44:24.601941Z"
    }
   },
   "outputs": [
    {
     "data": {
      "text/plain": [
       "tensor([[0.0890, 0.0978, 0.0886, 0.1012, 0.0866, 0.0868, 0.0992, 0.0964, 0.0854,\n",
       "         0.0950, 0.0740]], grad_fn=<SoftmaxBackward>)"
      ]
     },
     "execution_count": 22,
     "metadata": {},
     "output_type": "execute_result"
    }
   ],
   "source": [
    "out"
   ]
  },
  {
   "cell_type": "code",
   "execution_count": null,
   "metadata": {},
   "outputs": [],
   "source": []
  }
 ],
 "metadata": {
  "kernelspec": {
   "display_name": "Python 3",
   "language": "python",
   "name": "python3"
  },
  "language_info": {
   "codemirror_mode": {
    "name": "ipython",
    "version": 3
   },
   "file_extension": ".py",
   "mimetype": "text/x-python",
   "name": "python",
   "nbconvert_exporter": "python",
   "pygments_lexer": "ipython3",
   "version": "3.7.3"
  }
 },
 "nbformat": 4,
 "nbformat_minor": 2
}
