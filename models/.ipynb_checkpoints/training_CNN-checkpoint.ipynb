{
 "cells": [
  {
   "cell_type": "code",
   "execution_count": 18,
   "metadata": {},
   "outputs": [],
   "source": [
    "import h5py\n",
    "import numpy as np\n",
    "from skimage import io, transform\n",
    "from torchvision import transforms, utils\n",
    "import matplotlib.pyplot as plt\n",
    "import sys,os\n",
    "sys.path.append(os.path.abspath('../'))\n",
    "import utils.Dataset as u\n",
    "from torch.utils.data import DataLoader\n",
    "import torch\n",
    "import torch.nn as nn\n",
    "import torch.nn.functional as fc\n",
    "import torch.nn.modules.normalization as nm\n",
    "import torch.optim as optim\n",
    "import CNN as cnn"
   ]
  },
  {
   "cell_type": "code",
   "execution_count": 5,
   "metadata": {},
   "outputs": [
    {
     "data": {
      "text/plain": [
       "tensor(5)"
      ]
     },
     "execution_count": 5,
     "metadata": {},
     "output_type": "execute_result"
    }
   ],
   "source": [
    "a= 5\n",
    "torch.tensor(a)"
   ]
  },
  {
   "cell_type": "code",
   "execution_count": 2,
   "metadata": {},
   "outputs": [],
   "source": [
    "directory = \"/media/3522046/CHEKIROU/SoliData/dsp/\"\n",
    "# Datasets\n",
    "train, test = u.split(directory,frames = True, percentage = 0.8, use= 0.01) # returns a split of the frames 80% train, 20% test, for 80% of the data\n",
    "\n",
    "t = transforms.Compose([u.Reshape(), u.Rescale((224,224)), u.ToTensor()])\n",
    "training_set = u.Data(directory,train,transform = t) # open the dataset"
   ]
  },
  {
   "cell_type": "code",
   "execution_count": 4,
   "metadata": {},
   "outputs": [
    {
     "data": {
      "text/plain": [
       "656"
      ]
     },
     "execution_count": 4,
     "metadata": {},
     "output_type": "execute_result"
    }
   ],
   "source": [
    "len(test)"
   ]
  },
  {
   "cell_type": "code",
   "execution_count": 3,
   "metadata": {},
   "outputs": [
    {
     "name": "stderr",
     "output_type": "stream",
     "text": [
      "/usr/local/anaconda3/lib/python3.7/site-packages/skimage/transform/_warps.py:105: UserWarning: The default mode, 'constant', will be changed to 'reflect' in skimage 0.15.\n",
      "  warn(\"The default mode, 'constant', will be changed to 'reflect' in \"\n",
      "/usr/local/anaconda3/lib/python3.7/site-packages/skimage/transform/_warps.py:110: UserWarning: Anti-aliasing will be enabled by default in skimage 0.15 to avoid aliasing artifacts when down-sampling images.\n",
      "  warn(\"Anti-aliasing will be enabled by default in skimage 0.15 to \"\n"
     ]
    },
    {
     "data": {
      "text/plain": [
       "tensor([9], dtype=torch.int32)"
      ]
     },
     "execution_count": 3,
     "metadata": {},
     "output_type": "execute_result"
    }
   ],
   "source": [
    "training_set[0][1]"
   ]
  },
  {
   "cell_type": "code",
   "execution_count": 20,
   "metadata": {
    "scrolled": true
   },
   "outputs": [
    {
     "name": "stderr",
     "output_type": "stream",
     "text": [
      "/usr/local/anaconda3/lib/python3.7/site-packages/skimage/transform/_warps.py:105: UserWarning: The default mode, 'constant', will be changed to 'reflect' in skimage 0.15.\n",
      "  warn(\"The default mode, 'constant', will be changed to 'reflect' in \"\n",
      "/usr/local/anaconda3/lib/python3.7/site-packages/skimage/transform/_warps.py:105: UserWarning: The default mode, 'constant', will be changed to 'reflect' in skimage 0.15.\n",
      "  warn(\"The default mode, 'constant', will be changed to 'reflect' in \"\n",
      "/usr/local/anaconda3/lib/python3.7/site-packages/skimage/transform/_warps.py:110: UserWarning: Anti-aliasing will be enabled by default in skimage 0.15 to avoid aliasing artifacts when down-sampling images.\n",
      "  warn(\"Anti-aliasing will be enabled by default in skimage 0.15 to \"\n",
      "/usr/local/anaconda3/lib/python3.7/site-packages/skimage/transform/_warps.py:110: UserWarning: Anti-aliasing will be enabled by default in skimage 0.15 to avoid aliasing artifacts when down-sampling images.\n",
      "  warn(\"Anti-aliasing will be enabled by default in skimage 0.15 to \"\n",
      "/usr/local/anaconda3/lib/python3.7/site-packages/skimage/transform/_warps.py:105: UserWarning: The default mode, 'constant', will be changed to 'reflect' in skimage 0.15.\n",
      "  warn(\"The default mode, 'constant', will be changed to 'reflect' in \"\n",
      "/usr/local/anaconda3/lib/python3.7/site-packages/skimage/transform/_warps.py:110: UserWarning: Anti-aliasing will be enabled by default in skimage 0.15 to avoid aliasing artifacts when down-sampling images.\n",
      "  warn(\"Anti-aliasing will be enabled by default in skimage 0.15 to \"\n",
      "/usr/local/anaconda3/lib/python3.7/site-packages/skimage/transform/_warps.py:105: UserWarning: The default mode, 'constant', will be changed to 'reflect' in skimage 0.15.\n",
      "  warn(\"The default mode, 'constant', will be changed to 'reflect' in \"\n",
      "/usr/local/anaconda3/lib/python3.7/site-packages/skimage/transform/_warps.py:110: UserWarning: Anti-aliasing will be enabled by default in skimage 0.15 to avoid aliasing artifacts when down-sampling images.\n",
      "  warn(\"Anti-aliasing will be enabled by default in skimage 0.15 to \"\n",
      "/usr/local/anaconda3/lib/python3.7/site-packages/skimage/transform/_warps.py:105: UserWarning: The default mode, 'constant', will be changed to 'reflect' in skimage 0.15.\n",
      "  warn(\"The default mode, 'constant', will be changed to 'reflect' in \"\n",
      "/usr/local/anaconda3/lib/python3.7/site-packages/skimage/transform/_warps.py:110: UserWarning: Anti-aliasing will be enabled by default in skimage 0.15 to avoid aliasing artifacts when down-sampling images.\n",
      "  warn(\"Anti-aliasing will be enabled by default in skimage 0.15 to \"\n",
      "/usr/local/anaconda3/lib/python3.7/site-packages/skimage/transform/_warps.py:105: UserWarning: The default mode, 'constant', will be changed to 'reflect' in skimage 0.15.\n",
      "  warn(\"The default mode, 'constant', will be changed to 'reflect' in \"\n",
      "/usr/local/anaconda3/lib/python3.7/site-packages/skimage/transform/_warps.py:110: UserWarning: Anti-aliasing will be enabled by default in skimage 0.15 to avoid aliasing artifacts when down-sampling images.\n",
      "  warn(\"Anti-aliasing will be enabled by default in skimage 0.15 to \"\n"
     ]
    },
    {
     "name": "stdout",
     "output_type": "stream",
     "text": [
      "[1,   100] loss: 0.124\n",
      "[1,   200] loss: 0.124\n",
      "[1,   300] loss: 0.124\n",
      "[1,   400] loss: 0.124\n"
     ]
    }
   ],
   "source": [
    "# CUDA for PyTorch\n",
    "use_cuda = torch.cuda.is_available()\n",
    "device = torch.device(\"cuda:0\" if use_cuda else \"cpu\")\n",
    "#cudnn.benchmark = True # ca marche pas chez moi,peut etre qu'il faut que j'installe un truc\n",
    "# Parameters, num_workers c'est les threads\n",
    "\"\"\"device = torch.device(\"cpu\")\"\"\"\n",
    "params = {'batch_size': 64,\n",
    "          'shuffle': True,\n",
    "          'num_workers': 6}\n",
    "\n",
    "max_epochs = 1 # j'ai mis a 1 pour le test pour aller vite\n",
    "directory = \"/tmp/SoliData/dsp\"\n",
    "# Datasets\n",
    "train, test = u.split(directory,frames = True, percentage = 0.8, use= 0.1) # returns a split of the frames 80% train, 20% test, for 80% of the data\n",
    "\n",
    "# Generators\n",
    "\n",
    "t = transforms.Compose([u.Reshape(), u.Rescale((224,224)), u.ToTensor()]) # composition of transformations\n",
    "training_set = u.Data(directory,train,transform = t) # open the dataset\n",
    "training_generator = DataLoader(training_set, **params)\n",
    "\n",
    "\n",
    "validation_set = u.Data(directory,test,transform = t) # open the dataset\n",
    "validation_generator = DataLoader(validation_set, **{'batch_size': 1,'shuffle': False,'num_workers': 6})\n",
    "\n",
    "model = cnn.Net().double().to(device)\n",
    "optimizer = optim.SGD(model.parameters(), lr=0.01, momentum=0.9)\n",
    "criterion = nn.CrossEntropyLoss()\n",
    "# Train the model\n",
    "\n",
    "\n",
    "loss_list = []\n",
    "acc_list = []\n",
    "num_epochs = 1\n",
    "for epoch in range(num_epochs):\n",
    "    running_loss = 0.0\n",
    "    for i, (images, labels) in enumerate(training_generator):\n",
    "        images, labels = images.to(device), labels.to(device)\n",
    "        outputs = model(images)\n",
    "        labels = labels.view(images.shape[0]).long()\n",
    "        \n",
    "        loss = criterion(outputs, labels)\n",
    "\n",
    "        optimizer.zero_grad()\n",
    "        loss.backward()\n",
    "        optimizer.step()\n",
    "\n",
    "        running_loss += loss.item()\n",
    "        del images\n",
    "        del labels\n",
    "        if i % 100  == 99:    # print every 2000 mini-batches\n",
    "            print('[%d, %5d] loss: %.3f' %(epoch + 1, i + 1, running_loss / 2000))\n",
    "            running_loss = 0.0\n",
    "        "
   ]
  },
  {
   "cell_type": "code",
   "execution_count": 32,
   "metadata": {},
   "outputs": [],
   "source": [
    "training_set2 = u.Data(directory,train[:200],transform = t)"
   ]
  },
  {
   "cell_type": "code",
   "execution_count": 33,
   "metadata": {},
   "outputs": [],
   "source": [
    "training_generator2 = DataLoader(training_set2, **{'batch_size': 1,'shuffle': False,'num_workers': 6})"
   ]
  },
  {
   "cell_type": "code",
   "execution_count": 36,
   "metadata": {},
   "outputs": [
    {
     "name": "stderr",
     "output_type": "stream",
     "text": [
      "/usr/local/anaconda3/lib/python3.7/site-packages/skimage/transform/_warps.py:105: UserWarning: The default mode, 'constant', will be changed to 'reflect' in skimage 0.15.\n",
      "  warn(\"The default mode, 'constant', will be changed to 'reflect' in \"\n",
      "/usr/local/anaconda3/lib/python3.7/site-packages/skimage/transform/_warps.py:105: UserWarning: The default mode, 'constant', will be changed to 'reflect' in skimage 0.15.\n",
      "  warn(\"The default mode, 'constant', will be changed to 'reflect' in \"\n",
      "/usr/local/anaconda3/lib/python3.7/site-packages/skimage/transform/_warps.py:110: UserWarning: Anti-aliasing will be enabled by default in skimage 0.15 to avoid aliasing artifacts when down-sampling images.\n",
      "  warn(\"Anti-aliasing will be enabled by default in skimage 0.15 to \"\n",
      "/usr/local/anaconda3/lib/python3.7/site-packages/skimage/transform/_warps.py:105: UserWarning: The default mode, 'constant', will be changed to 'reflect' in skimage 0.15.\n",
      "  warn(\"The default mode, 'constant', will be changed to 'reflect' in \"\n",
      "/usr/local/anaconda3/lib/python3.7/site-packages/skimage/transform/_warps.py:110: UserWarning: Anti-aliasing will be enabled by default in skimage 0.15 to avoid aliasing artifacts when down-sampling images.\n",
      "  warn(\"Anti-aliasing will be enabled by default in skimage 0.15 to \"\n",
      "/usr/local/anaconda3/lib/python3.7/site-packages/skimage/transform/_warps.py:105: UserWarning: The default mode, 'constant', will be changed to 'reflect' in skimage 0.15.\n",
      "  warn(\"The default mode, 'constant', will be changed to 'reflect' in \"\n",
      "/usr/local/anaconda3/lib/python3.7/site-packages/skimage/transform/_warps.py:105: UserWarning: The default mode, 'constant', will be changed to 'reflect' in skimage 0.15.\n",
      "  warn(\"The default mode, 'constant', will be changed to 'reflect' in \"\n",
      "/usr/local/anaconda3/lib/python3.7/site-packages/skimage/transform/_warps.py:110: UserWarning: Anti-aliasing will be enabled by default in skimage 0.15 to avoid aliasing artifacts when down-sampling images.\n",
      "  warn(\"Anti-aliasing will be enabled by default in skimage 0.15 to \"\n",
      "/usr/local/anaconda3/lib/python3.7/site-packages/skimage/transform/_warps.py:110: UserWarning: Anti-aliasing will be enabled by default in skimage 0.15 to avoid aliasing artifacts when down-sampling images.\n",
      "  warn(\"Anti-aliasing will be enabled by default in skimage 0.15 to \"\n",
      "/usr/local/anaconda3/lib/python3.7/site-packages/skimage/transform/_warps.py:110: UserWarning: Anti-aliasing will be enabled by default in skimage 0.15 to avoid aliasing artifacts when down-sampling images.\n",
      "  warn(\"Anti-aliasing will be enabled by default in skimage 0.15 to \"\n",
      "/usr/local/anaconda3/lib/python3.7/site-packages/skimage/transform/_warps.py:105: UserWarning: The default mode, 'constant', will be changed to 'reflect' in skimage 0.15.\n",
      "  warn(\"The default mode, 'constant', will be changed to 'reflect' in \"\n",
      "/usr/local/anaconda3/lib/python3.7/site-packages/skimage/transform/_warps.py:110: UserWarning: Anti-aliasing will be enabled by default in skimage 0.15 to avoid aliasing artifacts when down-sampling images.\n",
      "  warn(\"Anti-aliasing will be enabled by default in skimage 0.15 to \"\n"
     ]
    },
    {
     "name": "stdout",
     "output_type": "stream",
     "text": [
      "tensor([[0.0806, 0.0935, 0.0908, 0.0803, 0.0840, 0.0805, 0.0841, 0.0803, 0.0889,\n",
      "         0.0884, 0.0784, 0.0701]], device='cuda:0', dtype=torch.float64,\n",
      "       grad_fn=<SoftmaxBackward>)\n",
      "------------------\n",
      "tensor([[0.0807, 0.0935, 0.0907, 0.0803, 0.0840, 0.0805, 0.0841, 0.0803, 0.0889,\n",
      "         0.0884, 0.0785, 0.0701]], device='cuda:0', dtype=torch.float64,\n",
      "       grad_fn=<SoftmaxBackward>)\n",
      "------------------\n",
      "tensor([[0.0806, 0.0935, 0.0908, 0.0803, 0.0840, 0.0805, 0.0841, 0.0803, 0.0889,\n",
      "         0.0883, 0.0784, 0.0701]], device='cuda:0', dtype=torch.float64,\n",
      "       grad_fn=<SoftmaxBackward>)\n",
      "------------------\n",
      "tensor([[0.0807, 0.0935, 0.0908, 0.0803, 0.0840, 0.0806, 0.0841, 0.0803, 0.0890,\n",
      "         0.0883, 0.0785, 0.0700]], device='cuda:0', dtype=torch.float64,\n",
      "       grad_fn=<SoftmaxBackward>)\n",
      "------------------\n",
      "tensor([[0.0806, 0.0935, 0.0908, 0.0803, 0.0840, 0.0805, 0.0841, 0.0803, 0.0889,\n",
      "         0.0884, 0.0784, 0.0701]], device='cuda:0', dtype=torch.float64,\n",
      "       grad_fn=<SoftmaxBackward>)\n",
      "------------------\n",
      "tensor([[0.0807, 0.0934, 0.0908, 0.0803, 0.0840, 0.0805, 0.0841, 0.0803, 0.0889,\n",
      "         0.0883, 0.0784, 0.0701]], device='cuda:0', dtype=torch.float64,\n",
      "       grad_fn=<SoftmaxBackward>)\n",
      "------------------\n",
      "tensor([[0.0806, 0.0934, 0.0908, 0.0803, 0.0840, 0.0806, 0.0841, 0.0803, 0.0889,\n",
      "         0.0883, 0.0784, 0.0701]], device='cuda:0', dtype=torch.float64,\n",
      "       grad_fn=<SoftmaxBackward>)\n",
      "------------------\n",
      "tensor([[0.0806, 0.0935, 0.0908, 0.0803, 0.0840, 0.0805, 0.0841, 0.0803, 0.0889,\n",
      "         0.0884, 0.0784, 0.0701]], device='cuda:0', dtype=torch.float64,\n",
      "       grad_fn=<SoftmaxBackward>)\n",
      "------------------\n",
      "tensor([[0.0806, 0.0934, 0.0908, 0.0803, 0.0840, 0.0805, 0.0841, 0.0803, 0.0889,\n",
      "         0.0884, 0.0784, 0.0701]], device='cuda:0', dtype=torch.float64,\n",
      "       grad_fn=<SoftmaxBackward>)\n",
      "------------------\n",
      "tensor([[0.0806, 0.0935, 0.0908, 0.0803, 0.0840, 0.0805, 0.0841, 0.0803, 0.0889,\n",
      "         0.0883, 0.0785, 0.0701]], device='cuda:0', dtype=torch.float64,\n",
      "       grad_fn=<SoftmaxBackward>)\n",
      "------------------\n",
      "tensor([[0.0806, 0.0934, 0.0908, 0.0803, 0.0840, 0.0806, 0.0841, 0.0803, 0.0890,\n",
      "         0.0884, 0.0784, 0.0701]], device='cuda:0', dtype=torch.float64,\n",
      "       grad_fn=<SoftmaxBackward>)\n",
      "------------------\n",
      "tensor([[0.0806, 0.0935, 0.0908, 0.0803, 0.0840, 0.0805, 0.0841, 0.0803, 0.0889,\n",
      "         0.0883, 0.0785, 0.0700]], device='cuda:0', dtype=torch.float64,\n",
      "       grad_fn=<SoftmaxBackward>)\n",
      "------------------\n",
      "tensor([[0.0806, 0.0935, 0.0908, 0.0803, 0.0841, 0.0805, 0.0841, 0.0804, 0.0890,\n",
      "         0.0883, 0.0784, 0.0701]], device='cuda:0', dtype=torch.float64,\n",
      "       grad_fn=<SoftmaxBackward>)\n",
      "------------------\n",
      "tensor([[0.0807, 0.0934, 0.0908, 0.0803, 0.0840, 0.0805, 0.0841, 0.0803, 0.0889,\n",
      "         0.0883, 0.0784, 0.0701]], device='cuda:0', dtype=torch.float64,\n",
      "       grad_fn=<SoftmaxBackward>)\n",
      "------------------\n",
      "tensor([[0.0807, 0.0935, 0.0908, 0.0803, 0.0840, 0.0805, 0.0841, 0.0803, 0.0889,\n",
      "         0.0883, 0.0785, 0.0701]], device='cuda:0', dtype=torch.float64,\n",
      "       grad_fn=<SoftmaxBackward>)\n",
      "------------------\n",
      "tensor([[0.0806, 0.0935, 0.0908, 0.0803, 0.0840, 0.0805, 0.0841, 0.0803, 0.0889,\n",
      "         0.0883, 0.0785, 0.0701]], device='cuda:0', dtype=torch.float64,\n",
      "       grad_fn=<SoftmaxBackward>)\n",
      "------------------\n",
      "tensor([[0.0807, 0.0935, 0.0908, 0.0803, 0.0840, 0.0805, 0.0841, 0.0803, 0.0889,\n",
      "         0.0883, 0.0784, 0.0701]], device='cuda:0', dtype=torch.float64,\n",
      "       grad_fn=<SoftmaxBackward>)\n",
      "------------------\n",
      "tensor([[0.0806, 0.0935, 0.0908, 0.0803, 0.0840, 0.0805, 0.0841, 0.0803, 0.0890,\n",
      "         0.0883, 0.0785, 0.0701]], device='cuda:0', dtype=torch.float64,\n",
      "       grad_fn=<SoftmaxBackward>)\n",
      "------------------\n",
      "tensor([[0.0806, 0.0934, 0.0908, 0.0803, 0.0840, 0.0805, 0.0841, 0.0803, 0.0889,\n",
      "         0.0884, 0.0784, 0.0701]], device='cuda:0', dtype=torch.float64,\n",
      "       grad_fn=<SoftmaxBackward>)\n",
      "------------------\n",
      "tensor([[0.0807, 0.0935, 0.0907, 0.0804, 0.0841, 0.0806, 0.0841, 0.0802, 0.0890,\n",
      "         0.0882, 0.0784, 0.0700]], device='cuda:0', dtype=torch.float64,\n",
      "       grad_fn=<SoftmaxBackward>)\n",
      "------------------\n",
      "tensor([[0.0806, 0.0935, 0.0908, 0.0803, 0.0840, 0.0805, 0.0841, 0.0803, 0.0889,\n",
      "         0.0883, 0.0785, 0.0701]], device='cuda:0', dtype=torch.float64,\n",
      "       grad_fn=<SoftmaxBackward>)\n",
      "------------------\n",
      "tensor([[0.0806, 0.0935, 0.0908, 0.0803, 0.0840, 0.0806, 0.0840, 0.0803, 0.0890,\n",
      "         0.0883, 0.0785, 0.0701]], device='cuda:0', dtype=torch.float64,\n",
      "       grad_fn=<SoftmaxBackward>)\n",
      "------------------\n",
      "tensor([[0.0806, 0.0935, 0.0908, 0.0803, 0.0840, 0.0805, 0.0841, 0.0803, 0.0889,\n",
      "         0.0883, 0.0784, 0.0701]], device='cuda:0', dtype=torch.float64,\n",
      "       grad_fn=<SoftmaxBackward>)\n",
      "------------------\n",
      "tensor([[0.0806, 0.0935, 0.0908, 0.0804, 0.0840, 0.0805, 0.0840, 0.0803, 0.0890,\n",
      "         0.0883, 0.0784, 0.0701]], device='cuda:0', dtype=torch.float64,\n",
      "       grad_fn=<SoftmaxBackward>)\n",
      "------------------\n",
      "tensor([[0.0807, 0.0935, 0.0908, 0.0803, 0.0840, 0.0805, 0.0841, 0.0803, 0.0889,\n",
      "         0.0883, 0.0785, 0.0700]], device='cuda:0', dtype=torch.float64,\n",
      "       grad_fn=<SoftmaxBackward>)\n",
      "------------------\n",
      "tensor([[0.0806, 0.0935, 0.0908, 0.0803, 0.0840, 0.0805, 0.0841, 0.0803, 0.0889,\n",
      "         0.0884, 0.0784, 0.0701]], device='cuda:0', dtype=torch.float64,\n",
      "       grad_fn=<SoftmaxBackward>)\n",
      "------------------\n",
      "tensor([[0.0806, 0.0934, 0.0908, 0.0803, 0.0840, 0.0805, 0.0841, 0.0803, 0.0889,\n",
      "         0.0884, 0.0784, 0.0701]], device='cuda:0', dtype=torch.float64,\n",
      "       grad_fn=<SoftmaxBackward>)\n",
      "------------------\n",
      "tensor([[0.0807, 0.0934, 0.0907, 0.0804, 0.0840, 0.0806, 0.0841, 0.0804, 0.0889,\n",
      "         0.0883, 0.0784, 0.0701]], device='cuda:0', dtype=torch.float64,\n",
      "       grad_fn=<SoftmaxBackward>)\n",
      "------------------\n",
      "tensor([[0.0806, 0.0934, 0.0908, 0.0803, 0.0840, 0.0805, 0.0841, 0.0803, 0.0889,\n",
      "         0.0884, 0.0784, 0.0701]], device='cuda:0', dtype=torch.float64,\n",
      "       grad_fn=<SoftmaxBackward>)\n",
      "------------------\n",
      "tensor([[0.0806, 0.0935, 0.0908, 0.0803, 0.0840, 0.0806, 0.0840, 0.0803, 0.0890,\n",
      "         0.0883, 0.0784, 0.0701]], device='cuda:0', dtype=torch.float64,\n",
      "       grad_fn=<SoftmaxBackward>)\n",
      "------------------\n",
      "tensor([[0.0806, 0.0935, 0.0908, 0.0803, 0.0840, 0.0806, 0.0840, 0.0803, 0.0889,\n",
      "         0.0883, 0.0784, 0.0701]], device='cuda:0', dtype=torch.float64,\n",
      "       grad_fn=<SoftmaxBackward>)\n",
      "------------------\n",
      "tensor([[0.0806, 0.0935, 0.0908, 0.0803, 0.0840, 0.0805, 0.0841, 0.0803, 0.0889,\n",
      "         0.0884, 0.0784, 0.0701]], device='cuda:0', dtype=torch.float64,\n",
      "       grad_fn=<SoftmaxBackward>)\n",
      "------------------\n",
      "tensor([[0.0806, 0.0935, 0.0908, 0.0803, 0.0840, 0.0805, 0.0841, 0.0803, 0.0889,\n",
      "         0.0883, 0.0785, 0.0701]], device='cuda:0', dtype=torch.float64,\n",
      "       grad_fn=<SoftmaxBackward>)\n",
      "------------------\n",
      "tensor([[0.0806, 0.0934, 0.0908, 0.0803, 0.0840, 0.0805, 0.0841, 0.0803, 0.0889,\n",
      "         0.0884, 0.0784, 0.0701]], device='cuda:0', dtype=torch.float64,\n",
      "       grad_fn=<SoftmaxBackward>)\n",
      "------------------\n",
      "tensor([[0.0806, 0.0934, 0.0908, 0.0803, 0.0840, 0.0805, 0.0841, 0.0803, 0.0889,\n",
      "         0.0884, 0.0784, 0.0701]], device='cuda:0', dtype=torch.float64,\n",
      "       grad_fn=<SoftmaxBackward>)\n",
      "------------------\n",
      "tensor([[0.0806, 0.0935, 0.0908, 0.0803, 0.0840, 0.0805, 0.0841, 0.0803, 0.0889,\n",
      "         0.0883, 0.0785, 0.0701]], device='cuda:0', dtype=torch.float64,\n",
      "       grad_fn=<SoftmaxBackward>)\n",
      "------------------\n",
      "tensor([[0.0806, 0.0935, 0.0908, 0.0803, 0.0840, 0.0805, 0.0841, 0.0803, 0.0890,\n",
      "         0.0884, 0.0784, 0.0701]], device='cuda:0', dtype=torch.float64,\n",
      "       grad_fn=<SoftmaxBackward>)\n",
      "------------------\n",
      "tensor([[0.0806, 0.0935, 0.0908, 0.0803, 0.0840, 0.0805, 0.0841, 0.0803, 0.0890,\n",
      "         0.0883, 0.0784, 0.0701]], device='cuda:0', dtype=torch.float64,\n",
      "       grad_fn=<SoftmaxBackward>)\n",
      "------------------\n",
      "tensor([[0.0806, 0.0935, 0.0908, 0.0803, 0.0840, 0.0805, 0.0841, 0.0803, 0.0889,\n",
      "         0.0884, 0.0784, 0.0701]], device='cuda:0', dtype=torch.float64,\n",
      "       grad_fn=<SoftmaxBackward>)\n",
      "------------------\n",
      "tensor([[0.0807, 0.0934, 0.0908, 0.0804, 0.0840, 0.0806, 0.0841, 0.0803, 0.0889,\n",
      "         0.0882, 0.0785, 0.0700]], device='cuda:0', dtype=torch.float64,\n",
      "       grad_fn=<SoftmaxBackward>)\n",
      "------------------\n",
      "tensor([[0.0807, 0.0935, 0.0908, 0.0803, 0.0840, 0.0805, 0.0841, 0.0803, 0.0889,\n",
      "         0.0883, 0.0785, 0.0700]], device='cuda:0', dtype=torch.float64,\n",
      "       grad_fn=<SoftmaxBackward>)\n",
      "------------------\n",
      "tensor([[0.0807, 0.0935, 0.0908, 0.0803, 0.0840, 0.0805, 0.0841, 0.0803, 0.0889,\n",
      "         0.0884, 0.0784, 0.0701]], device='cuda:0', dtype=torch.float64,\n",
      "       grad_fn=<SoftmaxBackward>)\n",
      "------------------\n",
      "tensor([[0.0807, 0.0935, 0.0908, 0.0803, 0.0840, 0.0805, 0.0841, 0.0803, 0.0889,\n",
      "         0.0883, 0.0785, 0.0700]], device='cuda:0', dtype=torch.float64,\n",
      "       grad_fn=<SoftmaxBackward>)\n",
      "------------------\n",
      "tensor([[0.0807, 0.0934, 0.0908, 0.0803, 0.0840, 0.0806, 0.0841, 0.0803, 0.0889,\n",
      "         0.0884, 0.0784, 0.0701]], device='cuda:0', dtype=torch.float64,\n",
      "       grad_fn=<SoftmaxBackward>)\n",
      "------------------\n",
      "tensor([[0.0806, 0.0934, 0.0908, 0.0803, 0.0840, 0.0805, 0.0841, 0.0803, 0.0889,\n",
      "         0.0884, 0.0784, 0.0701]], device='cuda:0', dtype=torch.float64,\n",
      "       grad_fn=<SoftmaxBackward>)\n",
      "------------------\n"
     ]
    },
    {
     "name": "stdout",
     "output_type": "stream",
     "text": [
      "tensor([[0.0807, 0.0935, 0.0908, 0.0803, 0.0840, 0.0805, 0.0841, 0.0803, 0.0889,\n",
      "         0.0883, 0.0785, 0.0701]], device='cuda:0', dtype=torch.float64,\n",
      "       grad_fn=<SoftmaxBackward>)\n",
      "------------------\n",
      "tensor([[0.0806, 0.0934, 0.0908, 0.0803, 0.0840, 0.0806, 0.0841, 0.0804, 0.0889,\n",
      "         0.0884, 0.0784, 0.0701]], device='cuda:0', dtype=torch.float64,\n",
      "       grad_fn=<SoftmaxBackward>)\n",
      "------------------\n",
      "tensor([[0.0806, 0.0935, 0.0908, 0.0803, 0.0841, 0.0805, 0.0841, 0.0803, 0.0890,\n",
      "         0.0883, 0.0784, 0.0701]], device='cuda:0', dtype=torch.float64,\n",
      "       grad_fn=<SoftmaxBackward>)\n",
      "------------------\n",
      "tensor([[0.0806, 0.0935, 0.0908, 0.0803, 0.0840, 0.0805, 0.0841, 0.0803, 0.0889,\n",
      "         0.0883, 0.0785, 0.0701]], device='cuda:0', dtype=torch.float64,\n",
      "       grad_fn=<SoftmaxBackward>)\n",
      "------------------\n",
      "tensor([[0.0806, 0.0935, 0.0908, 0.0803, 0.0840, 0.0805, 0.0841, 0.0803, 0.0890,\n",
      "         0.0884, 0.0785, 0.0701]], device='cuda:0', dtype=torch.float64,\n",
      "       grad_fn=<SoftmaxBackward>)\n",
      "------------------\n",
      "tensor([[0.0806, 0.0935, 0.0908, 0.0803, 0.0840, 0.0805, 0.0841, 0.0803, 0.0889,\n",
      "         0.0884, 0.0784, 0.0701]], device='cuda:0', dtype=torch.float64,\n",
      "       grad_fn=<SoftmaxBackward>)\n",
      "------------------\n",
      "tensor([[0.0807, 0.0934, 0.0908, 0.0803, 0.0840, 0.0806, 0.0841, 0.0803, 0.0889,\n",
      "         0.0883, 0.0785, 0.0701]], device='cuda:0', dtype=torch.float64,\n",
      "       grad_fn=<SoftmaxBackward>)\n",
      "------------------\n",
      "tensor([[0.0806, 0.0934, 0.0908, 0.0803, 0.0840, 0.0805, 0.0841, 0.0803, 0.0889,\n",
      "         0.0884, 0.0784, 0.0701]], device='cuda:0', dtype=torch.float64,\n",
      "       grad_fn=<SoftmaxBackward>)\n",
      "------------------\n",
      "tensor([[0.0807, 0.0935, 0.0908, 0.0803, 0.0840, 0.0805, 0.0841, 0.0803, 0.0889,\n",
      "         0.0883, 0.0784, 0.0701]], device='cuda:0', dtype=torch.float64,\n",
      "       grad_fn=<SoftmaxBackward>)\n",
      "------------------\n",
      "tensor([[0.0806, 0.0934, 0.0908, 0.0803, 0.0840, 0.0805, 0.0841, 0.0803, 0.0889,\n",
      "         0.0884, 0.0784, 0.0701]], device='cuda:0', dtype=torch.float64,\n",
      "       grad_fn=<SoftmaxBackward>)\n",
      "------------------\n",
      "tensor([[0.0806, 0.0935, 0.0908, 0.0803, 0.0840, 0.0805, 0.0841, 0.0803, 0.0889,\n",
      "         0.0883, 0.0784, 0.0701]], device='cuda:0', dtype=torch.float64,\n",
      "       grad_fn=<SoftmaxBackward>)\n",
      "------------------\n",
      "tensor([[0.0806, 0.0935, 0.0908, 0.0803, 0.0840, 0.0805, 0.0841, 0.0803, 0.0889,\n",
      "         0.0884, 0.0784, 0.0701]], device='cuda:0', dtype=torch.float64,\n",
      "       grad_fn=<SoftmaxBackward>)\n",
      "------------------\n",
      "tensor([[0.0806, 0.0935, 0.0908, 0.0803, 0.0840, 0.0805, 0.0841, 0.0803, 0.0889,\n",
      "         0.0884, 0.0784, 0.0701]], device='cuda:0', dtype=torch.float64,\n",
      "       grad_fn=<SoftmaxBackward>)\n",
      "------------------\n",
      "tensor([[0.0806, 0.0934, 0.0908, 0.0803, 0.0840, 0.0805, 0.0841, 0.0803, 0.0889,\n",
      "         0.0884, 0.0784, 0.0701]], device='cuda:0', dtype=torch.float64,\n",
      "       grad_fn=<SoftmaxBackward>)\n",
      "------------------\n",
      "tensor([[0.0806, 0.0934, 0.0908, 0.0803, 0.0840, 0.0805, 0.0841, 0.0803, 0.0889,\n",
      "         0.0884, 0.0784, 0.0701]], device='cuda:0', dtype=torch.float64,\n",
      "       grad_fn=<SoftmaxBackward>)\n",
      "------------------\n",
      "tensor([[0.0806, 0.0934, 0.0908, 0.0803, 0.0840, 0.0805, 0.0841, 0.0803, 0.0889,\n",
      "         0.0884, 0.0784, 0.0701]], device='cuda:0', dtype=torch.float64,\n",
      "       grad_fn=<SoftmaxBackward>)\n",
      "------------------\n",
      "tensor([[0.0806, 0.0935, 0.0908, 0.0803, 0.0840, 0.0806, 0.0840, 0.0803, 0.0890,\n",
      "         0.0883, 0.0784, 0.0701]], device='cuda:0', dtype=torch.float64,\n",
      "       grad_fn=<SoftmaxBackward>)\n",
      "------------------\n",
      "tensor([[0.0806, 0.0935, 0.0908, 0.0803, 0.0840, 0.0805, 0.0841, 0.0803, 0.0889,\n",
      "         0.0884, 0.0784, 0.0701]], device='cuda:0', dtype=torch.float64,\n",
      "       grad_fn=<SoftmaxBackward>)\n",
      "------------------\n",
      "tensor([[0.0806, 0.0934, 0.0908, 0.0803, 0.0840, 0.0806, 0.0841, 0.0803, 0.0889,\n",
      "         0.0884, 0.0784, 0.0701]], device='cuda:0', dtype=torch.float64,\n",
      "       grad_fn=<SoftmaxBackward>)\n",
      "------------------\n",
      "tensor([[0.0807, 0.0935, 0.0908, 0.0803, 0.0840, 0.0805, 0.0841, 0.0803, 0.0889,\n",
      "         0.0883, 0.0785, 0.0700]], device='cuda:0', dtype=torch.float64,\n",
      "       grad_fn=<SoftmaxBackward>)\n",
      "------------------\n",
      "tensor([[0.0806, 0.0935, 0.0908, 0.0803, 0.0840, 0.0805, 0.0841, 0.0803, 0.0889,\n",
      "         0.0884, 0.0784, 0.0701]], device='cuda:0', dtype=torch.float64,\n",
      "       grad_fn=<SoftmaxBackward>)\n",
      "------------------\n",
      "tensor([[0.0806, 0.0934, 0.0908, 0.0803, 0.0840, 0.0805, 0.0841, 0.0803, 0.0889,\n",
      "         0.0884, 0.0784, 0.0701]], device='cuda:0', dtype=torch.float64,\n",
      "       grad_fn=<SoftmaxBackward>)\n",
      "------------------\n",
      "tensor([[0.0806, 0.0935, 0.0908, 0.0803, 0.0840, 0.0805, 0.0841, 0.0803, 0.0889,\n",
      "         0.0884, 0.0784, 0.0701]], device='cuda:0', dtype=torch.float64,\n",
      "       grad_fn=<SoftmaxBackward>)\n",
      "------------------\n",
      "tensor([[0.0806, 0.0935, 0.0908, 0.0803, 0.0840, 0.0805, 0.0841, 0.0803, 0.0890,\n",
      "         0.0883, 0.0784, 0.0701]], device='cuda:0', dtype=torch.float64,\n",
      "       grad_fn=<SoftmaxBackward>)\n",
      "------------------\n",
      "tensor([[0.0806, 0.0935, 0.0908, 0.0803, 0.0840, 0.0805, 0.0841, 0.0803, 0.0889,\n",
      "         0.0883, 0.0784, 0.0701]], device='cuda:0', dtype=torch.float64,\n",
      "       grad_fn=<SoftmaxBackward>)\n",
      "------------------\n",
      "tensor([[0.0806, 0.0935, 0.0908, 0.0803, 0.0840, 0.0805, 0.0841, 0.0803, 0.0889,\n",
      "         0.0884, 0.0784, 0.0701]], device='cuda:0', dtype=torch.float64,\n",
      "       grad_fn=<SoftmaxBackward>)\n",
      "------------------\n",
      "tensor([[0.0806, 0.0935, 0.0908, 0.0803, 0.0840, 0.0805, 0.0841, 0.0803, 0.0890,\n",
      "         0.0884, 0.0784, 0.0701]], device='cuda:0', dtype=torch.float64,\n",
      "       grad_fn=<SoftmaxBackward>)\n",
      "------------------\n",
      "tensor([[0.0807, 0.0935, 0.0908, 0.0803, 0.0840, 0.0805, 0.0841, 0.0803, 0.0889,\n",
      "         0.0883, 0.0785, 0.0701]], device='cuda:0', dtype=torch.float64,\n",
      "       grad_fn=<SoftmaxBackward>)\n",
      "------------------\n",
      "tensor([[0.0806, 0.0934, 0.0908, 0.0803, 0.0840, 0.0805, 0.0841, 0.0803, 0.0890,\n",
      "         0.0884, 0.0784, 0.0701]], device='cuda:0', dtype=torch.float64,\n",
      "       grad_fn=<SoftmaxBackward>)\n",
      "------------------\n",
      "tensor([[0.0806, 0.0934, 0.0908, 0.0803, 0.0840, 0.0805, 0.0841, 0.0804, 0.0889,\n",
      "         0.0884, 0.0784, 0.0701]], device='cuda:0', dtype=torch.float64,\n",
      "       grad_fn=<SoftmaxBackward>)\n",
      "------------------\n",
      "tensor([[0.0807, 0.0934, 0.0908, 0.0803, 0.0840, 0.0805, 0.0841, 0.0803, 0.0889,\n",
      "         0.0884, 0.0784, 0.0701]], device='cuda:0', dtype=torch.float64,\n",
      "       grad_fn=<SoftmaxBackward>)\n",
      "------------------\n",
      "tensor([[0.0806, 0.0934, 0.0908, 0.0803, 0.0840, 0.0805, 0.0841, 0.0803, 0.0890,\n",
      "         0.0884, 0.0784, 0.0701]], device='cuda:0', dtype=torch.float64,\n",
      "       grad_fn=<SoftmaxBackward>)\n",
      "------------------\n",
      "tensor([[0.0806, 0.0934, 0.0908, 0.0803, 0.0840, 0.0805, 0.0842, 0.0803, 0.0890,\n",
      "         0.0883, 0.0785, 0.0700]], device='cuda:0', dtype=torch.float64,\n",
      "       grad_fn=<SoftmaxBackward>)\n",
      "------------------\n",
      "tensor([[0.0806, 0.0934, 0.0908, 0.0803, 0.0840, 0.0805, 0.0841, 0.0803, 0.0890,\n",
      "         0.0883, 0.0785, 0.0700]], device='cuda:0', dtype=torch.float64,\n",
      "       grad_fn=<SoftmaxBackward>)\n",
      "------------------\n",
      "tensor([[0.0806, 0.0935, 0.0908, 0.0803, 0.0840, 0.0806, 0.0840, 0.0804, 0.0890,\n",
      "         0.0883, 0.0784, 0.0701]], device='cuda:0', dtype=torch.float64,\n",
      "       grad_fn=<SoftmaxBackward>)\n",
      "------------------\n",
      "tensor([[0.0806, 0.0934, 0.0908, 0.0803, 0.0840, 0.0806, 0.0841, 0.0803, 0.0890,\n",
      "         0.0884, 0.0784, 0.0701]], device='cuda:0', dtype=torch.float64,\n",
      "       grad_fn=<SoftmaxBackward>)\n",
      "------------------\n",
      "tensor([[0.0806, 0.0934, 0.0908, 0.0803, 0.0840, 0.0805, 0.0841, 0.0803, 0.0889,\n",
      "         0.0884, 0.0784, 0.0701]], device='cuda:0', dtype=torch.float64,\n",
      "       grad_fn=<SoftmaxBackward>)\n",
      "------------------\n",
      "tensor([[0.0806, 0.0934, 0.0908, 0.0803, 0.0841, 0.0806, 0.0841, 0.0804, 0.0889,\n",
      "         0.0884, 0.0784, 0.0701]], device='cuda:0', dtype=torch.float64,\n",
      "       grad_fn=<SoftmaxBackward>)\n",
      "------------------\n",
      "tensor([[0.0807, 0.0934, 0.0908, 0.0803, 0.0840, 0.0806, 0.0841, 0.0804, 0.0889,\n",
      "         0.0884, 0.0784, 0.0701]], device='cuda:0', dtype=torch.float64,\n",
      "       grad_fn=<SoftmaxBackward>)\n",
      "------------------\n",
      "tensor([[0.0806, 0.0934, 0.0908, 0.0803, 0.0840, 0.0806, 0.0841, 0.0803, 0.0889,\n",
      "         0.0884, 0.0784, 0.0701]], device='cuda:0', dtype=torch.float64,\n",
      "       grad_fn=<SoftmaxBackward>)\n",
      "------------------\n",
      "tensor([[0.0806, 0.0935, 0.0908, 0.0803, 0.0840, 0.0805, 0.0841, 0.0803, 0.0889,\n",
      "         0.0884, 0.0784, 0.0701]], device='cuda:0', dtype=torch.float64,\n",
      "       grad_fn=<SoftmaxBackward>)\n",
      "------------------\n",
      "tensor([[0.0806, 0.0935, 0.0908, 0.0803, 0.0840, 0.0805, 0.0841, 0.0803, 0.0890,\n",
      "         0.0883, 0.0785, 0.0700]], device='cuda:0', dtype=torch.float64,\n",
      "       grad_fn=<SoftmaxBackward>)\n",
      "------------------\n",
      "tensor([[0.0806, 0.0935, 0.0908, 0.0803, 0.0840, 0.0805, 0.0841, 0.0803, 0.0889,\n",
      "         0.0883, 0.0784, 0.0701]], device='cuda:0', dtype=torch.float64,\n",
      "       grad_fn=<SoftmaxBackward>)\n",
      "------------------\n",
      "tensor([[0.0806, 0.0935, 0.0908, 0.0803, 0.0840, 0.0805, 0.0841, 0.0803, 0.0889,\n",
      "         0.0884, 0.0784, 0.0701]], device='cuda:0', dtype=torch.float64,\n",
      "       grad_fn=<SoftmaxBackward>)\n",
      "------------------\n",
      "tensor([[0.0806, 0.0935, 0.0908, 0.0803, 0.0840, 0.0805, 0.0841, 0.0803, 0.0889,\n",
      "         0.0884, 0.0784, 0.0701]], device='cuda:0', dtype=torch.float64,\n",
      "       grad_fn=<SoftmaxBackward>)\n",
      "------------------\n",
      "tensor([[0.0806, 0.0935, 0.0908, 0.0803, 0.0840, 0.0805, 0.0841, 0.0803, 0.0889,\n",
      "         0.0884, 0.0784, 0.0701]], device='cuda:0', dtype=torch.float64,\n",
      "       grad_fn=<SoftmaxBackward>)\n",
      "------------------\n"
     ]
    },
    {
     "name": "stdout",
     "output_type": "stream",
     "text": [
      "tensor([[0.0806, 0.0935, 0.0908, 0.0803, 0.0840, 0.0805, 0.0841, 0.0803, 0.0889,\n",
      "         0.0883, 0.0784, 0.0701]], device='cuda:0', dtype=torch.float64,\n",
      "       grad_fn=<SoftmaxBackward>)\n",
      "------------------\n",
      "tensor([[0.0806, 0.0935, 0.0908, 0.0803, 0.0840, 0.0805, 0.0841, 0.0803, 0.0890,\n",
      "         0.0883, 0.0785, 0.0701]], device='cuda:0', dtype=torch.float64,\n",
      "       grad_fn=<SoftmaxBackward>)\n",
      "------------------\n"
     ]
    },
    {
     "ename": "KeyboardInterrupt",
     "evalue": "",
     "output_type": "error",
     "traceback": [
      "\u001b[0;31m---------------------------------------------------------------------------\u001b[0m",
      "\u001b[0;31mKeyboardInterrupt\u001b[0m                         Traceback (most recent call last)",
      "\u001b[0;32m<ipython-input-36-3bbf4cdbcff4>\u001b[0m in \u001b[0;36m<module>\u001b[0;34m\u001b[0m\n\u001b[1;32m      3\u001b[0m     \u001b[0mimages\u001b[0m\u001b[0;34m,\u001b[0m \u001b[0mlabels\u001b[0m \u001b[0;34m=\u001b[0m \u001b[0mimages\u001b[0m\u001b[0;34m.\u001b[0m\u001b[0mto\u001b[0m\u001b[0;34m(\u001b[0m\u001b[0mdevice\u001b[0m\u001b[0;34m)\u001b[0m\u001b[0;34m,\u001b[0m \u001b[0mlabels\u001b[0m\u001b[0;34m.\u001b[0m\u001b[0mlong\u001b[0m\u001b[0;34m(\u001b[0m\u001b[0;34m)\u001b[0m\u001b[0;34m.\u001b[0m\u001b[0mto\u001b[0m\u001b[0;34m(\u001b[0m\u001b[0mdevice\u001b[0m\u001b[0;34m)\u001b[0m\u001b[0;34m\u001b[0m\u001b[0;34m\u001b[0m\u001b[0m\n\u001b[1;32m      4\u001b[0m     \u001b[0moutputs\u001b[0m \u001b[0;34m=\u001b[0m \u001b[0mmodel\u001b[0m\u001b[0;34m(\u001b[0m\u001b[0mimages\u001b[0m\u001b[0;34m)\u001b[0m\u001b[0;34m\u001b[0m\u001b[0;34m\u001b[0m\u001b[0m\n\u001b[0;32m----> 5\u001b[0;31m     \u001b[0mprint\u001b[0m\u001b[0;34m(\u001b[0m\u001b[0moutputs\u001b[0m\u001b[0;34m)\u001b[0m\u001b[0;34m\u001b[0m\u001b[0;34m\u001b[0m\u001b[0m\n\u001b[0m\u001b[1;32m      6\u001b[0m     \u001b[0mprint\u001b[0m\u001b[0;34m(\u001b[0m\u001b[0;34m\"------------------\"\u001b[0m\u001b[0;34m)\u001b[0m\u001b[0;34m\u001b[0m\u001b[0;34m\u001b[0m\u001b[0m\n\u001b[1;32m      7\u001b[0m     \u001b[0mprob_dist\u001b[0m \u001b[0;34m=\u001b[0m \u001b[0mtorch\u001b[0m\u001b[0;34m.\u001b[0m\u001b[0mdistributions\u001b[0m\u001b[0;34m.\u001b[0m\u001b[0mCategorical\u001b[0m\u001b[0;34m(\u001b[0m\u001b[0moutputs\u001b[0m\u001b[0;34m)\u001b[0m \u001b[0;31m# probs should be of size batch x classes\u001b[0m\u001b[0;34m\u001b[0m\u001b[0;34m\u001b[0m\u001b[0m\n",
      "\u001b[0;32m/usr/local/anaconda3/lib/python3.7/site-packages/torch/tensor.py\u001b[0m in \u001b[0;36m__repr__\u001b[0;34m(self)\u001b[0m\n\u001b[1;32m     80\u001b[0m         \u001b[0;31m# characters to replace unicode characters with.\u001b[0m\u001b[0;34m\u001b[0m\u001b[0;34m\u001b[0m\u001b[0;34m\u001b[0m\u001b[0m\n\u001b[1;32m     81\u001b[0m         \u001b[0;32mif\u001b[0m \u001b[0msys\u001b[0m\u001b[0;34m.\u001b[0m\u001b[0mversion_info\u001b[0m \u001b[0;34m>\u001b[0m \u001b[0;34m(\u001b[0m\u001b[0;36m3\u001b[0m\u001b[0;34m,\u001b[0m\u001b[0;34m)\u001b[0m\u001b[0;34m:\u001b[0m\u001b[0;34m\u001b[0m\u001b[0;34m\u001b[0m\u001b[0m\n\u001b[0;32m---> 82\u001b[0;31m             \u001b[0;32mreturn\u001b[0m \u001b[0mtorch\u001b[0m\u001b[0;34m.\u001b[0m\u001b[0m_tensor_str\u001b[0m\u001b[0;34m.\u001b[0m\u001b[0m_str\u001b[0m\u001b[0;34m(\u001b[0m\u001b[0mself\u001b[0m\u001b[0;34m)\u001b[0m\u001b[0;34m\u001b[0m\u001b[0;34m\u001b[0m\u001b[0m\n\u001b[0m\u001b[1;32m     83\u001b[0m         \u001b[0;32melse\u001b[0m\u001b[0;34m:\u001b[0m\u001b[0;34m\u001b[0m\u001b[0;34m\u001b[0m\u001b[0m\n\u001b[1;32m     84\u001b[0m             \u001b[0;32mif\u001b[0m \u001b[0mhasattr\u001b[0m\u001b[0;34m(\u001b[0m\u001b[0msys\u001b[0m\u001b[0;34m.\u001b[0m\u001b[0mstdout\u001b[0m\u001b[0;34m,\u001b[0m \u001b[0;34m'encoding'\u001b[0m\u001b[0;34m)\u001b[0m\u001b[0;34m:\u001b[0m\u001b[0;34m\u001b[0m\u001b[0;34m\u001b[0m\u001b[0m\n",
      "\u001b[0;32m/usr/local/anaconda3/lib/python3.7/site-packages/torch/_tensor_str.py\u001b[0m in \u001b[0;36m_str\u001b[0;34m(self)\u001b[0m\n\u001b[1;32m    298\u001b[0m                 \u001b[0mtensor_str\u001b[0m \u001b[0;34m=\u001b[0m \u001b[0m_tensor_str\u001b[0m\u001b[0;34m(\u001b[0m\u001b[0mself\u001b[0m\u001b[0;34m.\u001b[0m\u001b[0mto_dense\u001b[0m\u001b[0;34m(\u001b[0m\u001b[0;34m)\u001b[0m\u001b[0;34m,\u001b[0m \u001b[0mindent\u001b[0m\u001b[0;34m)\u001b[0m\u001b[0;34m\u001b[0m\u001b[0;34m\u001b[0m\u001b[0m\n\u001b[1;32m    299\u001b[0m             \u001b[0;32melse\u001b[0m\u001b[0;34m:\u001b[0m\u001b[0;34m\u001b[0m\u001b[0;34m\u001b[0m\u001b[0m\n\u001b[0;32m--> 300\u001b[0;31m                 \u001b[0mtensor_str\u001b[0m \u001b[0;34m=\u001b[0m \u001b[0m_tensor_str\u001b[0m\u001b[0;34m(\u001b[0m\u001b[0mself\u001b[0m\u001b[0;34m,\u001b[0m \u001b[0mindent\u001b[0m\u001b[0;34m)\u001b[0m\u001b[0;34m\u001b[0m\u001b[0;34m\u001b[0m\u001b[0m\n\u001b[0m\u001b[1;32m    301\u001b[0m \u001b[0;34m\u001b[0m\u001b[0m\n\u001b[1;32m    302\u001b[0m     \u001b[0;32mif\u001b[0m \u001b[0mself\u001b[0m\u001b[0;34m.\u001b[0m\u001b[0mlayout\u001b[0m \u001b[0;34m!=\u001b[0m \u001b[0mtorch\u001b[0m\u001b[0;34m.\u001b[0m\u001b[0mstrided\u001b[0m\u001b[0;34m:\u001b[0m\u001b[0;34m\u001b[0m\u001b[0;34m\u001b[0m\u001b[0m\n",
      "\u001b[0;32m/usr/local/anaconda3/lib/python3.7/site-packages/torch/_tensor_str.py\u001b[0m in \u001b[0;36m_tensor_str\u001b[0;34m(self, indent)\u001b[0m\n\u001b[1;32m    199\u001b[0m     \u001b[0;32mif\u001b[0m \u001b[0mself\u001b[0m\u001b[0;34m.\u001b[0m\u001b[0mdtype\u001b[0m \u001b[0;32mis\u001b[0m \u001b[0mtorch\u001b[0m\u001b[0;34m.\u001b[0m\u001b[0mfloat16\u001b[0m \u001b[0;32mor\u001b[0m \u001b[0mself\u001b[0m\u001b[0;34m.\u001b[0m\u001b[0mdtype\u001b[0m \u001b[0;32mis\u001b[0m \u001b[0mtorch\u001b[0m\u001b[0;34m.\u001b[0m\u001b[0mbfloat16\u001b[0m\u001b[0;34m:\u001b[0m\u001b[0;34m\u001b[0m\u001b[0;34m\u001b[0m\u001b[0m\n\u001b[1;32m    200\u001b[0m         \u001b[0mself\u001b[0m \u001b[0;34m=\u001b[0m \u001b[0mself\u001b[0m\u001b[0;34m.\u001b[0m\u001b[0mfloat\u001b[0m\u001b[0;34m(\u001b[0m\u001b[0;34m)\u001b[0m\u001b[0;34m\u001b[0m\u001b[0;34m\u001b[0m\u001b[0m\n\u001b[0;32m--> 201\u001b[0;31m     \u001b[0mformatter\u001b[0m \u001b[0;34m=\u001b[0m \u001b[0m_Formatter\u001b[0m\u001b[0;34m(\u001b[0m\u001b[0mget_summarized_data\u001b[0m\u001b[0;34m(\u001b[0m\u001b[0mself\u001b[0m\u001b[0;34m)\u001b[0m \u001b[0;32mif\u001b[0m \u001b[0msummarize\u001b[0m \u001b[0;32melse\u001b[0m \u001b[0mself\u001b[0m\u001b[0;34m)\u001b[0m\u001b[0;34m\u001b[0m\u001b[0;34m\u001b[0m\u001b[0m\n\u001b[0m\u001b[1;32m    202\u001b[0m     \u001b[0;32mreturn\u001b[0m \u001b[0m_tensor_str_with_formatter\u001b[0m\u001b[0;34m(\u001b[0m\u001b[0mself\u001b[0m\u001b[0;34m,\u001b[0m \u001b[0mindent\u001b[0m\u001b[0;34m,\u001b[0m \u001b[0mformatter\u001b[0m\u001b[0;34m,\u001b[0m \u001b[0msummarize\u001b[0m\u001b[0;34m)\u001b[0m\u001b[0;34m\u001b[0m\u001b[0;34m\u001b[0m\u001b[0m\n\u001b[1;32m    203\u001b[0m \u001b[0;34m\u001b[0m\u001b[0m\n",
      "\u001b[0;32m/usr/local/anaconda3/lib/python3.7/site-packages/torch/_tensor_str.py\u001b[0m in \u001b[0;36m__init__\u001b[0;34m(self, tensor)\u001b[0m\n\u001b[1;32m     85\u001b[0m \u001b[0;34m\u001b[0m\u001b[0m\n\u001b[1;32m     86\u001b[0m         \u001b[0;32melse\u001b[0m\u001b[0;34m:\u001b[0m\u001b[0;34m\u001b[0m\u001b[0;34m\u001b[0m\u001b[0m\n\u001b[0;32m---> 87\u001b[0;31m             \u001b[0mnonzero_finite_vals\u001b[0m \u001b[0;34m=\u001b[0m \u001b[0mtorch\u001b[0m\u001b[0;34m.\u001b[0m\u001b[0mmasked_select\u001b[0m\u001b[0;34m(\u001b[0m\u001b[0mtensor_view\u001b[0m\u001b[0;34m,\u001b[0m \u001b[0mtorch\u001b[0m\u001b[0;34m.\u001b[0m\u001b[0misfinite\u001b[0m\u001b[0;34m(\u001b[0m\u001b[0mtensor_view\u001b[0m\u001b[0;34m)\u001b[0m \u001b[0;34m&\u001b[0m \u001b[0mtensor_view\u001b[0m\u001b[0;34m.\u001b[0m\u001b[0mne\u001b[0m\u001b[0;34m(\u001b[0m\u001b[0;36m0\u001b[0m\u001b[0;34m)\u001b[0m\u001b[0;34m)\u001b[0m\u001b[0;34m\u001b[0m\u001b[0;34m\u001b[0m\u001b[0m\n\u001b[0m\u001b[1;32m     88\u001b[0m \u001b[0;34m\u001b[0m\u001b[0m\n\u001b[1;32m     89\u001b[0m             \u001b[0;32mif\u001b[0m \u001b[0mnonzero_finite_vals\u001b[0m\u001b[0;34m.\u001b[0m\u001b[0mnumel\u001b[0m\u001b[0;34m(\u001b[0m\u001b[0;34m)\u001b[0m \u001b[0;34m==\u001b[0m \u001b[0;36m0\u001b[0m\u001b[0;34m:\u001b[0m\u001b[0;34m\u001b[0m\u001b[0;34m\u001b[0m\u001b[0m\n",
      "\u001b[0;31mKeyboardInterrupt\u001b[0m: "
     ]
    }
   ],
   "source": [
    "acc = 0\n",
    "for images, labels in (training_generator2):\n",
    "    images, labels = images.to(device), labels.long().to(device)\n",
    "    outputs = model(images)\n",
    "    print(outputs)\n",
    "    print(\"------------------\")\n",
    "    prob_dist = torch.distributions.Categorical(outputs) # probs should be of size batch x classes\n",
    "    predictions = prob_dist.sample().to(device)\n",
    "    acc += int(predictions == labels[0])\n",
    "    \n",
    "accuracy = acc / len(training_generator2)"
   ]
  },
  {
   "cell_type": "code",
   "execution_count": 35,
   "metadata": {},
   "outputs": [
    {
     "data": {
      "text/plain": [
       "0.08"
      ]
     },
     "execution_count": 35,
     "metadata": {},
     "output_type": "execute_result"
    }
   ],
   "source": [
    "accuracy"
   ]
  },
  {
   "cell_type": "code",
   "execution_count": 16,
   "metadata": {
    "scrolled": true
   },
   "outputs": [
    {
     "name": "stdout",
     "output_type": "stream",
     "text": [
      "Once deleted, variables cannot be recovered. Proceed (y/[n])? y\n"
     ]
    },
    {
     "name": "stderr",
     "output_type": "stream",
     "text": [
      "ERROR:root:Invalid alias: The name clear can't be aliased because it is another magic command.\n",
      "ERROR:root:Invalid alias: The name more can't be aliased because it is another magic command.\n",
      "ERROR:root:Invalid alias: The name less can't be aliased because it is another magic command.\n",
      "ERROR:root:Invalid alias: The name man can't be aliased because it is another magic command.\n"
     ]
    }
   ],
   "source": [
    "%reset"
   ]
  },
  {
   "cell_type": "code",
   "execution_count": 6,
   "metadata": {},
   "outputs": [
    {
     "data": {
      "text/plain": [
       "True"
      ]
     },
     "execution_count": 6,
     "metadata": {},
     "output_type": "execute_result"
    }
   ],
   "source": [
    "torch.cuda.is_available()"
   ]
  },
  {
   "cell_type": "code",
   "execution_count": 19,
   "metadata": {},
   "outputs": [],
   "source": [
    "torch.cuda.empty_cache()"
   ]
  },
  {
   "cell_type": "code",
   "execution_count": 8,
   "metadata": {},
   "outputs": [],
   "source": [
    "probs = torch.Tensor([ [0.1, 0.2, 0.7], [0.1, 0.8, 0.1], [0.4, 0.5, 0.1] ])\n",
    "prob_dist = torch.distributions.Categorical(probs) # probs should be of size batch x classes\n",
    "a = prob_dist.sample()"
   ]
  },
  {
   "cell_type": "code",
   "execution_count": 9,
   "metadata": {},
   "outputs": [
    {
     "data": {
      "text/plain": [
       "tensor([1, 1, 0])"
      ]
     },
     "execution_count": 9,
     "metadata": {},
     "output_type": "execute_result"
    }
   ],
   "source": [
    "a"
   ]
  },
  {
   "cell_type": "code",
   "execution_count": null,
   "metadata": {},
   "outputs": [],
   "source": []
  }
 ],
 "metadata": {
  "kernelspec": {
   "display_name": "Python 3",
   "language": "python",
   "name": "python3"
  },
  "language_info": {
   "codemirror_mode": {
    "name": "ipython",
    "version": 3
   },
   "file_extension": ".py",
   "mimetype": "text/x-python",
   "name": "python",
   "nbconvert_exporter": "python",
   "pygments_lexer": "ipython3",
   "version": "3.7.3"
  }
 },
 "nbformat": 4,
 "nbformat_minor": 2
}
