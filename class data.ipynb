{
 "cells": [
  {
   "cell_type": "code",
   "execution_count": 2,
   "metadata": {},
   "outputs": [],
   "source": [
    "from __future__ import print_function, division\n",
    "import os\n",
    "import torch\n",
    "import pandas as pd\n",
    "from matplotlib.pyplot import imshow\n",
    "from skimage import io, transform\n",
    "import numpy as np\n",
    "import matplotlib.pyplot as plt\n",
    "from torch.utils.data import Dataset, DataLoader\n",
    "from torchvision import transforms, utils\n",
    "import h5py\n",
    "import json\n",
    "from random import shuffle"
   ]
  },
  {
   "cell_type": "code",
   "execution_count": 153,
   "metadata": {},
   "outputs": [],
   "source": [
    "\n",
    "\n",
    "class Data(Dataset):\n",
    "    \"\"\"\n",
    "    gesture frame dataset.\n",
    "    \"\"\"\n",
    "\n",
    "    def __init__(self, root_dir, transform=None):\n",
    "        \"\"\"\n",
    "        Args:\n",
    "            root_dir (string): Directory with all the h5 sequences.\n",
    "            transform (callable, optional): Optional transform to be applied\n",
    "                on a sample.\n",
    "        \"\"\"\n",
    "        self.root_dir = root_dir\n",
    "        self.transform = transform\n",
    "\n",
    "    def __getitem__(self, index):\n",
    "        data, sequencen,num= [], \"\", None\n",
    "        if type(index) is list:\n",
    "            sequence, num = index[0], index[1]\n",
    "        else:\n",
    "            sequence = index\n",
    "        sequence = os.path.join(self.root_dir, sequence+ \".h5\")\n",
    "        for i in range(4):\n",
    "            with h5py.File(sequence, 'r') as f:\n",
    "                if num:\n",
    "                    data.append(f['ch{}'.format(i)][num])\n",
    "                    label = f['label'][num]\n",
    "                else:\n",
    "                    data.append(f['ch{}'.format(i)][()])\n",
    "                    label = f['label'][()]\n",
    "        data = np.stack((data[0], data[1], data[2], data[3]), axis=-1)\n",
    "        if self.transform:\n",
    "            data, label = self.transform((data, label))\n",
    "        return data, label\n",
    "        \n",
    "    def get(self, gesture , session, instance):\n",
    "        return self.__getitem__(str(gesture) + \"_\" + str(session) + \"_\"+ str(instance))\n",
    "    def split(self, frames = False, already_defined = True, percentage = 0.5):\n",
    "        \"\"\"\n",
    "        args : \n",
    "            frames: boolean, returns sets of (sequence, image number) if true, sets of sequences if false\n",
    "            already_defined : returns the predefined train set if true, random if false\n",
    "            percentage : percentage of the data in the train set\n",
    "        return train and test sets\n",
    "            \n",
    "        \"\"\"\n",
    "        if not frames and already_defined:\n",
    "            train, test = [], []\n",
    "            with open(\"partitions/file_half.json\") as f:#get the defined train set \n",
    "                train = json.load(f)[\"train\"]\n",
    "            for i in os.listdir(self.root_dir): # put the rest of the files in the test set\n",
    "                if i[:-3] not in train:\n",
    "                    test.append(i[:-3])\n",
    "            return train, test\n",
    "        elif not frames and not already_defined:\n",
    "            data = list(map(lambda x : x[:-3] , os.listdir(self.root_dir)))#take all the sequences\n",
    "            shuffle(data)#shuffle them \n",
    "            return data[: int(percentage * len(data))],data[int(percentage * len(data)): ]\n",
    "        elif frames:\n",
    "            if not os.path.exists('partitions/all_frames.json'):#if the list of all the image isn't created\n",
    "                all_frames = []\n",
    "                for i in os.listdir(self.root_dir):\n",
    "                    with h5py.File(self.root_dir+ i, 'r') as f:\n",
    "                        length = len(f['ch{}'.format(0)][()])\n",
    "                        all_frames.extend([ (i[:-3],j) for j in  list(range(length))])\n",
    "                with open('partitions/all_frames.json', 'w') as outfile:\n",
    "                    json.dump({\"data\" : all_frames}, outfile)\n",
    "            \n",
    "            #open the set of frames, shuffle them and return the train test plit\n",
    "            data = []\n",
    "            with open('partitions/all_frames.json', 'r') as infile:\n",
    "                data = json.load(infile)[\"data\"]\n",
    "            shuffle(data)\n",
    "            return data[: int(percentage * len(data))],data[int(percentage * len(data)): ]\n",
    "        \n",
    "            "
   ]
  },
  {
   "cell_type": "code",
   "execution_count": 154,
   "metadata": {},
   "outputs": [],
   "source": [
    "class Reshape(object):\n",
    "    def __call__(self, sample):\n",
    "        data, label = sample\n",
    "        # swap color axis because\n",
    "        # numpy image: H x W x C\n",
    "        # torch image: C X H X W\n",
    "        if len(data.shape) == 3:# a whole sequence \n",
    "            data = data.reshape((data.shape[0], 32,32, 4))\n",
    "        else: # a single frame\n",
    "            data = data.reshape((32,32,4))\n",
    "        return data, label\n",
    "class Rescale(object):\n",
    "    \"\"\"Rescale the image in a sample to a given size.\n",
    "\n",
    "    Args:\n",
    "        output_size (tuple): Desired output size. If tuple, output is\n",
    "            matched to output_size. \n",
    "    \"\"\"\n",
    "\n",
    "    def __init__(self, output_size):\n",
    "        self.output_size = output_size\n",
    "\n",
    "    def __call__(self, sample):\n",
    "        newH, newW = self.output_size\n",
    "        data, labels = sample[0], sample[1]\n",
    "        if len(data.shape) == 4: # if sequence\n",
    "            data = transform.resize(data, (data.shape[0], newH, newW, data.shape[3]))\n",
    "        else:# if single frame\n",
    "            data = transform.resize(data, (newH, newW, data.shape[3]))\n",
    "\n",
    "        return data, label"
   ]
  },
  {
   "cell_type": "code",
   "execution_count": 155,
   "metadata": {},
   "outputs": [],
   "source": [
    "class ToTensor(object):\n",
    "    \"\"\"reshapes ndarrays in sample to Tensors.\"\"\"\n",
    "\n",
    "    def __call__(self, sample):\n",
    "        data, label= sample\n",
    "        # swap color axis because\n",
    "        # numpy image: H x W x C\n",
    "        # torch image: C X H X W\n",
    "        if len(data.shape) == 4:# a whole sequence \n",
    "            data = data.transpose((0, 3, 1, 2))\n",
    "        else: # a single frame\n",
    "            data = data.transpose((2,0,1))\n",
    "        return torch.from_numpy(data),torch.from_numpy(label)"
   ]
  },
  {
   "cell_type": "code",
   "execution_count": 165,
   "metadata": {},
   "outputs": [],
   "source": [
    "sequences = Data(\"/home/chekirou/Documents/SOLI/SoliData/dsp/\",transform = transforms.Compose([Reshape(), Rescale((224,224)), ToTensor()]) )"
   ]
  },
  {
   "cell_type": "code",
   "execution_count": 166,
   "metadata": {},
   "outputs": [],
   "source": [
    "train, test = sequences.split(already_defined=False)"
   ]
  },
  {
   "cell_type": "code",
   "execution_count": 167,
   "metadata": {},
   "outputs": [
    {
     "name": "stdout",
     "output_type": "stream",
     "text": [
      "9_3_3\n"
     ]
    }
   ],
   "source": [
    "scale = Reshape()\n",
    "r = Rescale((224,224))\n",
    "t = ToTensor()\n",
    "tr = transforms.Compose([scale, r, t])\n",
    "for i in range(1):\n",
    "    print(train[i])\n",
    "    data, label = sequences[train[i]]"
   ]
  },
  {
   "cell_type": "code",
   "execution_count": 177,
   "metadata": {},
   "outputs": [
    {
     "data": {
      "text/plain": [
       "<matplotlib.image.AxesImage at 0x7fb040130590>"
      ]
     },
     "execution_count": 177,
     "metadata": {},
     "output_type": "execute_result"
    },
    {
     "data": {
      "image/png": "[encoded data removed]",
      "text/plain": [
       "<Figure size 432x288 with 1 Axes>"
      ]
     },
     "metadata": {
      "needs_background": "light"
     },
     "output_type": "display_data"
    }
   ],
   "source": [
    "imshow(data[0][0,:,:])"
   ]
  },
  {
   "cell_type": "code",
   "execution_count": null,
   "metadata": {},
   "outputs": [],
   "source": []
  }
 ],
 "metadata": {
  "kernelspec": {
   "display_name": "Python 3",
   "language": "python",
   "name": "python3"
  },
  "language_info": {
   "codemirror_mode": {
    "name": "ipython",
    "version": 3
   },
   "file_extension": ".py",
   "mimetype": "text/x-python",
   "name": "python",
   "nbconvert_exporter": "python",
   "pygments_lexer": "ipython3",
   "version": "3.7.4"
  }
 },
 "nbformat": 4,
 "nbformat_minor": 2
}
