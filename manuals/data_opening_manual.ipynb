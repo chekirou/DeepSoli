{
 "cells": [
  {
   "cell_type": "code",
   "execution_count": 12,
   "metadata": {},
   "outputs": [],
   "source": [
    "import h5py\n",
    "import numpy as np\n",
    "from skimage import io, transform\n",
    "from torchvision import transforms, utils\n",
    "import matplotlib.pyplot as plt\n",
    "import utils.Dataset as u"
   ]
  },
  {
   "cell_type": "markdown",
   "metadata": {},
   "source": [
    "## open a dataset"
   ]
  },
  {
   "cell_type": "code",
   "execution_count": 13,
   "metadata": {},
   "outputs": [],
   "source": [
    "t = transforms.Compose([u.Reshape(), u.Rescale((224,224)), u.ToTensor()]) # composition of transformations\n",
    "data = u.Data(\"/home/chekirou/Documents/SOLI/SoliData/dsp/\",transform = t) # open the dataset"
   ]
  },
  {
   "cell_type": "code",
   "execution_count": 14,
   "metadata": {},
   "outputs": [],
   "source": [
    "train1, test1 = data.split() # return a split train test of the sequences, using all the data, 50% train, 50% test\n",
    "train2, test2 = data.split(frames = True, percentage = 0.8, use= 0.8) # returns a split of the frames 80% train, 20% test, for 80% of the data\n",
    "train3, test3 = data.split(frames = False, already_defined= True)# returns train test split as defined in the article\n",
    "\n"
   ]
  },
  {
   "cell_type": "code",
   "execution_count": 6,
   "metadata": {},
   "outputs": [
    {
     "name": "stdout",
     "output_type": "stream",
     "text": [
      "7_9_21\n",
      "the sequence : torch.Size([46, 4, 224, 224])\n",
      "the labels   : torch.Size([46, 1])\n"
     ]
    }
   ],
   "source": [
    "print(train1[0])\n",
    "sequence, labels = data[train1[0]]# get the sequence\n",
    "print(\"the sequence : \" + str(sequence.size()))\n",
    "print(\"the labels   : \" + str(labels.size()))"
   ]
  },
  {
   "cell_type": "code",
   "execution_count": 9,
   "metadata": {},
   "outputs": [
    {
     "name": "stdout",
     "output_type": "stream",
     "text": [
      "['3_7_17', 7]\n",
      "the sequence : torch.Size([4, 224, 224])\n",
      "the labels   : torch.Size([1])\n",
      "the label    : tensor([3], dtype=torch.int32)\n"
     ]
    }
   ],
   "source": [
    "print(train2[0])\n",
    "sequence, labels = data[train2[0]]# get the frame\n",
    "print(\"the sequence : \" + str(sequence.size()))\n",
    "print(\"the labels   : \" + str(labels.size()))\n",
    "print(\"the label    : \" + str(labels))"
   ]
  },
  {
   "cell_type": "code",
   "execution_count": 10,
   "metadata": {},
   "outputs": [
    {
     "name": "stdout",
     "output_type": "stream",
     "text": [
      "0_8_4\n",
      "the sequence : torch.Size([59, 4, 224, 224])\n",
      "the labels   : torch.Size([59, 1])\n",
      "the label    : tensor([[0],\n",
      "        [0],\n",
      "        [0],\n",
      "        [0],\n",
      "        [0],\n",
      "        [0],\n",
      "        [0],\n",
      "        [0],\n",
      "        [0],\n",
      "        [0],\n",
      "        [0],\n",
      "        [0],\n",
      "        [0],\n",
      "        [0],\n",
      "        [0],\n",
      "        [0],\n",
      "        [0],\n",
      "        [0],\n",
      "        [0],\n",
      "        [0],\n",
      "        [0],\n",
      "        [0],\n",
      "        [0],\n",
      "        [0],\n",
      "        [0],\n",
      "        [0],\n",
      "        [0],\n",
      "        [0],\n",
      "        [0],\n",
      "        [0],\n",
      "        [0],\n",
      "        [0],\n",
      "        [0],\n",
      "        [0],\n",
      "        [0],\n",
      "        [0],\n",
      "        [0],\n",
      "        [0],\n",
      "        [0],\n",
      "        [0],\n",
      "        [0],\n",
      "        [0],\n",
      "        [0],\n",
      "        [0],\n",
      "        [0],\n",
      "        [0],\n",
      "        [0],\n",
      "        [0],\n",
      "        [0],\n",
      "        [0],\n",
      "        [0],\n",
      "        [0],\n",
      "        [0],\n",
      "        [0],\n",
      "        [0],\n",
      "        [0],\n",
      "        [0],\n",
      "        [0],\n",
      "        [0]], dtype=torch.int32)\n"
     ]
    }
   ],
   "source": [
    "print(train3[0])\n",
    "sequence, labels = data[train3[0]]# get the sequence\n",
    "print(\"the sequence : \" + str(sequence.size()))\n",
    "print(\"the labels   : \" + str(labels.size()))\n",
    "print(\"the label    : \" + str(labels))"
   ]
  },
  {
   "cell_type": "code",
   "execution_count": null,
   "metadata": {},
   "outputs": [],
   "source": []
  }
 ],
 "metadata": {
  "kernelspec": {
   "display_name": "Python 3",
   "language": "python",
   "name": "python3"
  },
  "language_info": {
   "codemirror_mode": {
    "name": "ipython",
    "version": 3
   },
   "file_extension": ".py",
   "mimetype": "text/x-python",
   "name": "python",
   "nbconvert_exporter": "python",
   "pygments_lexer": "ipython3",
   "version": "3.7.4"
  }
 },
 "nbformat": 4,
 "nbformat_minor": 2
}
